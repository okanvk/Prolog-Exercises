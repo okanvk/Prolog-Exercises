{
 "cells": [
  {
   "cell_type": "code",
   "execution_count": 1,
   "metadata": {},
   "outputs": [],
   "source": [
    "from pyswip import Prolog\n",
    "from pyswip import Functor, Variable, Query"
   ]
  },
  {
   "cell_type": "code",
   "execution_count": 2,
   "metadata": {},
   "outputs": [],
   "source": [
    "prolog = Prolog()"
   ]
  },
  {
   "cell_type": "code",
   "execution_count": 3,
   "metadata": {},
   "outputs": [],
   "source": [
    "prolog.consult(\"basic.pl\")\n",
    "likes = Functor(\"likes\", 2)\n",
    "X = Variable()"
   ]
  },
  {
   "cell_type": "code",
   "execution_count": 11,
   "metadata": {},
   "outputs": [
    {
     "name": "stdout",
     "output_type": "stream",
     "text": [
      "1\n"
     ]
    }
   ],
   "source": [
    "q = Query(likes(\"mary\",X))\n",
    "while q.nextSolution():\n",
    "    print(\"Hello,\", X.value)\n",
    "q.closeQuery()"
   ]
  },
  {
   "cell_type": "code",
   "execution_count": 10,
   "metadata": {},
   "outputs": [],
   "source": [
    "#https://github.com/yuce/pyswip\n",
    "#http://www.cs.toronto.edu/~sheila/384/w11/simple-prolog-examples.html\n",
    "#https://github.com/yuce/pyswip/blob/master/INSTALL.md\n",
    "#https://www.quora.com/profile/Anne-Ogborn\n",
    "#https://wiki.python.org/moin/IntegratingPythonWithOtherLanguages#Prolog\n",
    "#https://cutebouncingbunnies.wordpress.com/2017/04/25/the-standard-sequence-for-prolog/"
   ]
  },
  {
   "cell_type": "code",
   "execution_count": null,
   "metadata": {},
   "outputs": [],
   "source": []
  }
 ],
 "metadata": {
  "kernelspec": {
   "display_name": "Python 3",
   "language": "python",
   "name": "python3"
  },
  "language_info": {
   "codemirror_mode": {
    "name": "ipython",
    "version": 3
   },
   "file_extension": ".py",
   "mimetype": "text/x-python",
   "name": "python",
   "nbconvert_exporter": "python",
   "pygments_lexer": "ipython3",
   "version": "3.6.5"
  }
 },
 "nbformat": 4,
 "nbformat_minor": 2
}
